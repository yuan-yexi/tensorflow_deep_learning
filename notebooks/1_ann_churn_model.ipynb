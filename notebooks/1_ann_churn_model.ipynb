{
 "cells": [
  {
   "cell_type": "markdown",
   "source": [
    "### Importing libraries"
   ],
   "metadata": {
    "collapsed": false
   }
  },
  {
   "cell_type": "code",
   "execution_count": 1,
   "metadata": {
    "collapsed": true,
    "ExecuteTime": {
     "start_time": "2023-04-21T14:40:53.658079Z",
     "end_time": "2023-04-21T14:40:55.926819Z"
    }
   },
   "outputs": [
    {
     "name": "stderr",
     "output_type": "stream",
     "text": [
      "2023-04-21 14:40:54.352588: I tensorflow/core/platform/cpu_feature_guard.cc:182] This TensorFlow binary is optimized to use available CPU instructions in performance-critical operations.\n",
      "To enable the following instructions: AVX2 FMA, in other operations, rebuild TensorFlow with the appropriate compiler flags.\n",
      "2023-04-21 14:40:55.100384: W tensorflow/compiler/tf2tensorrt/utils/py_utils.cc:38] TF-TRT Warning: Could not find TensorRT\n"
     ]
    }
   ],
   "source": [
    "import numpy as np\n",
    "import pandas as pd\n",
    "import tensorflow as tf"
   ]
  },
  {
   "cell_type": "code",
   "execution_count": 2,
   "outputs": [
    {
     "data": {
      "text/plain": "'2.12.0'"
     },
     "execution_count": 2,
     "metadata": {},
     "output_type": "execute_result"
    }
   ],
   "source": [
    "tf.__version__"
   ],
   "metadata": {
    "collapsed": false,
    "ExecuteTime": {
     "start_time": "2023-04-21T14:40:55.925456Z",
     "end_time": "2023-04-21T14:40:55.930892Z"
    }
   }
  },
  {
   "cell_type": "markdown",
   "source": [
    "### Data Pre-processing"
   ],
   "metadata": {
    "collapsed": false
   }
  },
  {
   "cell_type": "code",
   "execution_count": 3,
   "outputs": [],
   "source": [
    "dataset = pd.read_csv('../data/Churn_Modelling.csv')"
   ],
   "metadata": {
    "collapsed": false,
    "ExecuteTime": {
     "start_time": "2023-04-21T14:40:55.929263Z",
     "end_time": "2023-04-21T14:40:55.942350Z"
    }
   }
  },
  {
   "cell_type": "code",
   "execution_count": 4,
   "outputs": [
    {
     "data": {
      "text/plain": "   RowNumber  CustomerId   Surname  CreditScore Geography  Gender  Age  \\\n0          1    15634602  Hargrave          619    France  Female   42   \n1          2    15647311      Hill          608     Spain  Female   41   \n2          3    15619304      Onio          502    France  Female   42   \n3          4    15701354      Boni          699    France  Female   39   \n4          5    15737888  Mitchell          850     Spain  Female   43   \n\n   Tenure    Balance  NumOfProducts  HasCrCard  IsActiveMember  \\\n0       2       0.00              1          1               1   \n1       1   83807.86              1          0               1   \n2       8  159660.80              3          1               0   \n3       1       0.00              2          0               0   \n4       2  125510.82              1          1               1   \n\n   EstimatedSalary  Exited  \n0        101348.88       1  \n1        112542.58       0  \n2        113931.57       1  \n3         93826.63       0  \n4         79084.10       0  ",
      "text/html": "<div>\n<style scoped>\n    .dataframe tbody tr th:only-of-type {\n        vertical-align: middle;\n    }\n\n    .dataframe tbody tr th {\n        vertical-align: top;\n    }\n\n    .dataframe thead th {\n        text-align: right;\n    }\n</style>\n<table border=\"1\" class=\"dataframe\">\n  <thead>\n    <tr style=\"text-align: right;\">\n      <th></th>\n      <th>RowNumber</th>\n      <th>CustomerId</th>\n      <th>Surname</th>\n      <th>CreditScore</th>\n      <th>Geography</th>\n      <th>Gender</th>\n      <th>Age</th>\n      <th>Tenure</th>\n      <th>Balance</th>\n      <th>NumOfProducts</th>\n      <th>HasCrCard</th>\n      <th>IsActiveMember</th>\n      <th>EstimatedSalary</th>\n      <th>Exited</th>\n    </tr>\n  </thead>\n  <tbody>\n    <tr>\n      <th>0</th>\n      <td>1</td>\n      <td>15634602</td>\n      <td>Hargrave</td>\n      <td>619</td>\n      <td>France</td>\n      <td>Female</td>\n      <td>42</td>\n      <td>2</td>\n      <td>0.00</td>\n      <td>1</td>\n      <td>1</td>\n      <td>1</td>\n      <td>101348.88</td>\n      <td>1</td>\n    </tr>\n    <tr>\n      <th>1</th>\n      <td>2</td>\n      <td>15647311</td>\n      <td>Hill</td>\n      <td>608</td>\n      <td>Spain</td>\n      <td>Female</td>\n      <td>41</td>\n      <td>1</td>\n      <td>83807.86</td>\n      <td>1</td>\n      <td>0</td>\n      <td>1</td>\n      <td>112542.58</td>\n      <td>0</td>\n    </tr>\n    <tr>\n      <th>2</th>\n      <td>3</td>\n      <td>15619304</td>\n      <td>Onio</td>\n      <td>502</td>\n      <td>France</td>\n      <td>Female</td>\n      <td>42</td>\n      <td>8</td>\n      <td>159660.80</td>\n      <td>3</td>\n      <td>1</td>\n      <td>0</td>\n      <td>113931.57</td>\n      <td>1</td>\n    </tr>\n    <tr>\n      <th>3</th>\n      <td>4</td>\n      <td>15701354</td>\n      <td>Boni</td>\n      <td>699</td>\n      <td>France</td>\n      <td>Female</td>\n      <td>39</td>\n      <td>1</td>\n      <td>0.00</td>\n      <td>2</td>\n      <td>0</td>\n      <td>0</td>\n      <td>93826.63</td>\n      <td>0</td>\n    </tr>\n    <tr>\n      <th>4</th>\n      <td>5</td>\n      <td>15737888</td>\n      <td>Mitchell</td>\n      <td>850</td>\n      <td>Spain</td>\n      <td>Female</td>\n      <td>43</td>\n      <td>2</td>\n      <td>125510.82</td>\n      <td>1</td>\n      <td>1</td>\n      <td>1</td>\n      <td>79084.10</td>\n      <td>0</td>\n    </tr>\n  </tbody>\n</table>\n</div>"
     },
     "execution_count": 4,
     "metadata": {},
     "output_type": "execute_result"
    }
   ],
   "source": [
    "dataset.head()"
   ],
   "metadata": {
    "collapsed": false,
    "ExecuteTime": {
     "start_time": "2023-04-21T14:40:55.944858Z",
     "end_time": "2023-04-21T14:40:56.009901Z"
    }
   }
  },
  {
   "cell_type": "code",
   "execution_count": 5,
   "outputs": [],
   "source": [
    "X = dataset.iloc[:, 3:-1]\n",
    "y = dataset.iloc[:, -1]"
   ],
   "metadata": {
    "collapsed": false,
    "ExecuteTime": {
     "start_time": "2023-04-21T14:40:55.955827Z",
     "end_time": "2023-04-21T14:40:56.010262Z"
    }
   }
  },
  {
   "cell_type": "code",
   "execution_count": 6,
   "outputs": [
    {
     "name": "stdout",
     "output_type": "stream",
     "text": [
      "      CreditScore Geography  Gender  Age  Tenure    Balance  NumOfProducts  \\\n",
      "0             619    France  Female   42       2       0.00              1   \n",
      "1             608     Spain  Female   41       1   83807.86              1   \n",
      "2             502    France  Female   42       8  159660.80              3   \n",
      "3             699    France  Female   39       1       0.00              2   \n",
      "4             850     Spain  Female   43       2  125510.82              1   \n",
      "...           ...       ...     ...  ...     ...        ...            ...   \n",
      "9995          771    France    Male   39       5       0.00              2   \n",
      "9996          516    France    Male   35      10   57369.61              1   \n",
      "9997          709    France  Female   36       7       0.00              1   \n",
      "9998          772   Germany    Male   42       3   75075.31              2   \n",
      "9999          792    France  Female   28       4  130142.79              1   \n",
      "\n",
      "      HasCrCard  IsActiveMember  EstimatedSalary  \n",
      "0             1               1        101348.88  \n",
      "1             0               1        112542.58  \n",
      "2             1               0        113931.57  \n",
      "3             0               0         93826.63  \n",
      "4             1               1         79084.10  \n",
      "...         ...             ...              ...  \n",
      "9995          1               0         96270.64  \n",
      "9996          1               1        101699.77  \n",
      "9997          0               1         42085.58  \n",
      "9998          1               0         92888.52  \n",
      "9999          1               0         38190.78  \n",
      "\n",
      "[10000 rows x 10 columns]\n"
     ]
    }
   ],
   "source": [
    "print(X)"
   ],
   "metadata": {
    "collapsed": false,
    "ExecuteTime": {
     "start_time": "2023-04-21T14:40:55.962953Z",
     "end_time": "2023-04-21T14:40:56.010945Z"
    }
   }
  },
  {
   "cell_type": "code",
   "execution_count": 7,
   "outputs": [
    {
     "name": "stdout",
     "output_type": "stream",
     "text": [
      "0       1\n",
      "1       0\n",
      "2       1\n",
      "3       0\n",
      "4       0\n",
      "       ..\n",
      "9995    0\n",
      "9996    0\n",
      "9997    1\n",
      "9998    1\n",
      "9999    0\n",
      "Name: Exited, Length: 10000, dtype: int64\n"
     ]
    }
   ],
   "source": [
    "print(y)"
   ],
   "metadata": {
    "collapsed": false,
    "ExecuteTime": {
     "start_time": "2023-04-21T14:40:55.965269Z",
     "end_time": "2023-04-21T14:40:56.011272Z"
    }
   }
  },
  {
   "cell_type": "markdown",
   "source": [
    "### Encoding Categorical Data"
   ],
   "metadata": {
    "collapsed": false
   }
  },
  {
   "cell_type": "code",
   "execution_count": 8,
   "outputs": [],
   "source": [
    "from sklearn.preprocessing import LabelEncoder\n",
    "\n",
    "le = LabelEncoder()  # initialise label encoder"
   ],
   "metadata": {
    "collapsed": false,
    "ExecuteTime": {
     "start_time": "2023-04-21T14:40:55.969264Z",
     "end_time": "2023-04-21T14:40:56.179685Z"
    }
   }
  },
  {
   "cell_type": "code",
   "execution_count": 9,
   "outputs": [
    {
     "name": "stderr",
     "output_type": "stream",
     "text": [
      "/tmp/ipykernel_16748/2433907196.py:2: DeprecationWarning: In a future version, `df.iloc[:, i] = newvals` will attempt to set the values inplace instead of always setting a new array. To retain the old behavior, use either `df[df.columns[i]] = newvals` or, if columns are non-unique, `df.isetitem(i, newvals)`\n",
      "  X.iloc[:, 2] = le.fit_transform(X.iloc[:, 2])\n"
     ]
    }
   ],
   "source": [
    "# Encode Gender Column\n",
    "X.iloc[:, 2] = le.fit_transform(X.iloc[:, 2])"
   ],
   "metadata": {
    "collapsed": false,
    "ExecuteTime": {
     "start_time": "2023-04-21T14:40:56.170233Z",
     "end_time": "2023-04-21T14:40:56.241874Z"
    }
   }
  },
  {
   "cell_type": "code",
   "execution_count": 10,
   "outputs": [
    {
     "data": {
      "text/plain": "   CreditScore Geography  Gender  Age  Tenure    Balance  NumOfProducts  \\\n0          619    France       0   42       2       0.00              1   \n1          608     Spain       0   41       1   83807.86              1   \n2          502    France       0   42       8  159660.80              3   \n3          699    France       0   39       1       0.00              2   \n4          850     Spain       0   43       2  125510.82              1   \n\n   HasCrCard  IsActiveMember  EstimatedSalary  \n0          1               1        101348.88  \n1          0               1        112542.58  \n2          1               0        113931.57  \n3          0               0         93826.63  \n4          1               1         79084.10  ",
      "text/html": "<div>\n<style scoped>\n    .dataframe tbody tr th:only-of-type {\n        vertical-align: middle;\n    }\n\n    .dataframe tbody tr th {\n        vertical-align: top;\n    }\n\n    .dataframe thead th {\n        text-align: right;\n    }\n</style>\n<table border=\"1\" class=\"dataframe\">\n  <thead>\n    <tr style=\"text-align: right;\">\n      <th></th>\n      <th>CreditScore</th>\n      <th>Geography</th>\n      <th>Gender</th>\n      <th>Age</th>\n      <th>Tenure</th>\n      <th>Balance</th>\n      <th>NumOfProducts</th>\n      <th>HasCrCard</th>\n      <th>IsActiveMember</th>\n      <th>EstimatedSalary</th>\n    </tr>\n  </thead>\n  <tbody>\n    <tr>\n      <th>0</th>\n      <td>619</td>\n      <td>France</td>\n      <td>0</td>\n      <td>42</td>\n      <td>2</td>\n      <td>0.00</td>\n      <td>1</td>\n      <td>1</td>\n      <td>1</td>\n      <td>101348.88</td>\n    </tr>\n    <tr>\n      <th>1</th>\n      <td>608</td>\n      <td>Spain</td>\n      <td>0</td>\n      <td>41</td>\n      <td>1</td>\n      <td>83807.86</td>\n      <td>1</td>\n      <td>0</td>\n      <td>1</td>\n      <td>112542.58</td>\n    </tr>\n    <tr>\n      <th>2</th>\n      <td>502</td>\n      <td>France</td>\n      <td>0</td>\n      <td>42</td>\n      <td>8</td>\n      <td>159660.80</td>\n      <td>3</td>\n      <td>1</td>\n      <td>0</td>\n      <td>113931.57</td>\n    </tr>\n    <tr>\n      <th>3</th>\n      <td>699</td>\n      <td>France</td>\n      <td>0</td>\n      <td>39</td>\n      <td>1</td>\n      <td>0.00</td>\n      <td>2</td>\n      <td>0</td>\n      <td>0</td>\n      <td>93826.63</td>\n    </tr>\n    <tr>\n      <th>4</th>\n      <td>850</td>\n      <td>Spain</td>\n      <td>0</td>\n      <td>43</td>\n      <td>2</td>\n      <td>125510.82</td>\n      <td>1</td>\n      <td>1</td>\n      <td>1</td>\n      <td>79084.10</td>\n    </tr>\n  </tbody>\n</table>\n</div>"
     },
     "execution_count": 10,
     "metadata": {},
     "output_type": "execute_result"
    }
   ],
   "source": [
    "X.head()"
   ],
   "metadata": {
    "collapsed": false,
    "ExecuteTime": {
     "start_time": "2023-04-21T14:40:56.218367Z",
     "end_time": "2023-04-21T14:40:56.248034Z"
    }
   }
  },
  {
   "cell_type": "code",
   "execution_count": 11,
   "outputs": [],
   "source": [
    "from sklearn.compose import ColumnTransformer\n",
    "from sklearn.preprocessing import OneHotEncoder\n",
    "\n",
    "# define the column transformer with one transformer\n",
    "ct = ColumnTransformer(\n",
    "    transformers=[\n",
    "        ('encoder', OneHotEncoder(), [1]),  # apply OneHotEncoder to the second column (Geography)\n",
    "    ],\n",
    "    remainder='passthrough'  # remainder parameter, which can be set to 'passthrough' to keep the columns that were not specified in the list of transformers, or set to a transformer to apply to the remaining columns.\n",
    ")"
   ],
   "metadata": {
    "collapsed": false,
    "ExecuteTime": {
     "start_time": "2023-04-21T14:40:56.218571Z",
     "end_time": "2023-04-21T14:40:56.248231Z"
    }
   }
  },
  {
   "cell_type": "code",
   "execution_count": 12,
   "outputs": [],
   "source": [
    "X = np.array(ct.fit_transform(X))"
   ],
   "metadata": {
    "collapsed": false,
    "ExecuteTime": {
     "start_time": "2023-04-21T14:40:56.218677Z",
     "end_time": "2023-04-21T14:40:56.248356Z"
    }
   }
  },
  {
   "cell_type": "code",
   "execution_count": 13,
   "outputs": [
    {
     "data": {
      "text/plain": "array([[1.0000000e+00, 0.0000000e+00, 0.0000000e+00, ..., 1.0000000e+00,\n        1.0000000e+00, 1.0134888e+05],\n       [0.0000000e+00, 0.0000000e+00, 1.0000000e+00, ..., 0.0000000e+00,\n        1.0000000e+00, 1.1254258e+05],\n       [1.0000000e+00, 0.0000000e+00, 0.0000000e+00, ..., 1.0000000e+00,\n        0.0000000e+00, 1.1393157e+05],\n       ...,\n       [1.0000000e+00, 0.0000000e+00, 0.0000000e+00, ..., 0.0000000e+00,\n        1.0000000e+00, 4.2085580e+04],\n       [0.0000000e+00, 1.0000000e+00, 0.0000000e+00, ..., 1.0000000e+00,\n        0.0000000e+00, 9.2888520e+04],\n       [1.0000000e+00, 0.0000000e+00, 0.0000000e+00, ..., 1.0000000e+00,\n        0.0000000e+00, 3.8190780e+04]])"
     },
     "execution_count": 13,
     "metadata": {},
     "output_type": "execute_result"
    }
   ],
   "source": [
    "X"
   ],
   "metadata": {
    "collapsed": false,
    "ExecuteTime": {
     "start_time": "2023-04-21T14:40:56.218777Z",
     "end_time": "2023-04-21T14:40:56.248672Z"
    }
   }
  },
  {
   "cell_type": "markdown",
   "source": [
    "### Train Test Split Dataset"
   ],
   "metadata": {
    "collapsed": false
   }
  },
  {
   "cell_type": "code",
   "execution_count": 14,
   "outputs": [],
   "source": [
    "from sklearn.model_selection import train_test_split\n",
    "X_train, X_test, y_train, y_test = train_test_split(X, y, test_size = 0.2, random_state = 0)"
   ],
   "metadata": {
    "collapsed": false,
    "ExecuteTime": {
     "start_time": "2023-04-21T14:40:56.219320Z",
     "end_time": "2023-04-21T14:40:56.248865Z"
    }
   }
  },
  {
   "cell_type": "markdown",
   "source": [
    "### Feature Scaling"
   ],
   "metadata": {
    "collapsed": false
   }
  },
  {
   "cell_type": "code",
   "execution_count": 15,
   "outputs": [],
   "source": [
    "from sklearn.preprocessing import StandardScaler\n",
    "sc = StandardScaler()\n",
    "X_train = sc.fit_transform(X_train)\n",
    "X_test = sc.transform(X_test)"
   ],
   "metadata": {
    "collapsed": false,
    "ExecuteTime": {
     "start_time": "2023-04-21T14:40:56.219476Z",
     "end_time": "2023-04-21T14:40:56.270596Z"
    }
   }
  },
  {
   "cell_type": "markdown",
   "source": [
    "### Building the ANN"
   ],
   "metadata": {
    "collapsed": false
   }
  },
  {
   "cell_type": "code",
   "execution_count": 16,
   "outputs": [
    {
     "name": "stderr",
     "output_type": "stream",
     "text": [
      "2023-04-21 14:40:56.261159: I tensorflow/compiler/xla/stream_executor/cuda/cuda_gpu_executor.cc:996] successful NUMA node read from SysFS had negative value (-1), but there must be at least one NUMA node, so returning NUMA node zero. See more at https://github.com/torvalds/linux/blob/v6.0/Documentation/ABI/testing/sysfs-bus-pci#L344-L355\n",
      "2023-04-21 14:40:56.291675: W tensorflow/core/common_runtime/gpu/gpu_device.cc:1956] Cannot dlopen some GPU libraries. Please make sure the missing libraries mentioned above are installed properly if you would like to use GPU. Follow the guide at https://www.tensorflow.org/install/gpu for how to download and setup the required libraries for your platform.\n",
      "Skipping registering GPU devices...\n"
     ]
    }
   ],
   "source": [
    "# Initialise the ANN\n",
    "ann = tf.keras.models.Sequential()\n",
    "\n",
    "# Adding input layer and first hidden layer\n",
    "ann.add(tf.keras.layers.Dense(units=6, activation='relu'))\n",
    "\n",
    "# Adding second hidden layer\n",
    "ann.add(tf.keras.layers.Dense(units=6, activation='relu'))\n",
    "\n",
    "# Adding output layer\n",
    "ann.add(tf.keras.layers.Dense(units=1, activation='sigmoid'))"
   ],
   "metadata": {
    "collapsed": false,
    "ExecuteTime": {
     "start_time": "2023-04-21T14:40:56.261367Z",
     "end_time": "2023-04-21T14:40:56.361399Z"
    }
   }
  },
  {
   "cell_type": "markdown",
   "source": [
    "### Training the ANN"
   ],
   "metadata": {
    "collapsed": false
   }
  },
  {
   "cell_type": "code",
   "execution_count": 17,
   "outputs": [],
   "source": [
    "# Compling the ANN\n",
    "ann.compile(optimizer = 'adam', loss = 'binary_crossentropy', metrics = ['accuracy'])"
   ],
   "metadata": {
    "collapsed": false,
    "ExecuteTime": {
     "start_time": "2023-04-21T14:40:56.316258Z",
     "end_time": "2023-04-21T14:40:56.393644Z"
    }
   }
  },
  {
   "cell_type": "code",
   "execution_count": 18,
   "outputs": [
    {
     "name": "stdout",
     "output_type": "stream",
     "text": [
      "Epoch 1/100\n",
      "250/250 [==============================] - 1s 775us/step - loss: 0.5519 - accuracy: 0.7664\n",
      "Epoch 2/100\n",
      "250/250 [==============================] - 0s 767us/step - loss: 0.4725 - accuracy: 0.7986\n",
      "Epoch 3/100\n",
      "250/250 [==============================] - 0s 746us/step - loss: 0.4458 - accuracy: 0.8045\n",
      "Epoch 4/100\n",
      "250/250 [==============================] - 0s 728us/step - loss: 0.4332 - accuracy: 0.8084\n",
      "Epoch 5/100\n",
      "250/250 [==============================] - 0s 711us/step - loss: 0.4255 - accuracy: 0.8145\n",
      "Epoch 6/100\n",
      "250/250 [==============================] - 0s 739us/step - loss: 0.4181 - accuracy: 0.8207\n",
      "Epoch 7/100\n",
      "250/250 [==============================] - 0s 750us/step - loss: 0.4083 - accuracy: 0.8245\n",
      "Epoch 8/100\n",
      "250/250 [==============================] - 0s 710us/step - loss: 0.3973 - accuracy: 0.8314\n",
      "Epoch 9/100\n",
      "250/250 [==============================] - 0s 731us/step - loss: 0.3867 - accuracy: 0.8367\n",
      "Epoch 10/100\n",
      "250/250 [==============================] - 0s 731us/step - loss: 0.3763 - accuracy: 0.8428\n",
      "Epoch 11/100\n",
      "250/250 [==============================] - 0s 709us/step - loss: 0.3684 - accuracy: 0.8468\n",
      "Epoch 12/100\n",
      "250/250 [==============================] - 0s 716us/step - loss: 0.3618 - accuracy: 0.8504\n",
      "Epoch 13/100\n",
      "250/250 [==============================] - 0s 709us/step - loss: 0.3574 - accuracy: 0.8528\n",
      "Epoch 14/100\n",
      "250/250 [==============================] - 0s 697us/step - loss: 0.3531 - accuracy: 0.8544\n",
      "Epoch 15/100\n",
      "250/250 [==============================] - 0s 710us/step - loss: 0.3499 - accuracy: 0.8566\n",
      "Epoch 16/100\n",
      "250/250 [==============================] - 0s 764us/step - loss: 0.3475 - accuracy: 0.8579\n",
      "Epoch 17/100\n",
      "250/250 [==============================] - 0s 690us/step - loss: 0.3459 - accuracy: 0.8596\n",
      "Epoch 18/100\n",
      "250/250 [==============================] - 0s 722us/step - loss: 0.3441 - accuracy: 0.8609\n",
      "Epoch 19/100\n",
      "250/250 [==============================] - 0s 716us/step - loss: 0.3430 - accuracy: 0.8596\n",
      "Epoch 20/100\n",
      "250/250 [==============================] - 0s 726us/step - loss: 0.3420 - accuracy: 0.8615\n",
      "Epoch 21/100\n",
      "250/250 [==============================] - 0s 717us/step - loss: 0.3418 - accuracy: 0.8605\n",
      "Epoch 22/100\n",
      "250/250 [==============================] - 0s 729us/step - loss: 0.3406 - accuracy: 0.8605\n",
      "Epoch 23/100\n",
      "250/250 [==============================] - 0s 757us/step - loss: 0.3400 - accuracy: 0.8635\n",
      "Epoch 24/100\n",
      "250/250 [==============================] - 0s 705us/step - loss: 0.3402 - accuracy: 0.8599\n",
      "Epoch 25/100\n",
      "250/250 [==============================] - 0s 699us/step - loss: 0.3401 - accuracy: 0.8601\n",
      "Epoch 26/100\n",
      "250/250 [==============================] - 0s 725us/step - loss: 0.3396 - accuracy: 0.8615\n",
      "Epoch 27/100\n",
      "250/250 [==============================] - 0s 729us/step - loss: 0.3393 - accuracy: 0.8621\n",
      "Epoch 28/100\n",
      "250/250 [==============================] - 0s 769us/step - loss: 0.3386 - accuracy: 0.8616\n",
      "Epoch 29/100\n",
      "250/250 [==============================] - 0s 766us/step - loss: 0.3382 - accuracy: 0.8621\n",
      "Epoch 30/100\n",
      "250/250 [==============================] - 0s 701us/step - loss: 0.3379 - accuracy: 0.8615\n",
      "Epoch 31/100\n",
      "250/250 [==============================] - 0s 722us/step - loss: 0.3376 - accuracy: 0.8612\n",
      "Epoch 32/100\n",
      "250/250 [==============================] - 0s 720us/step - loss: 0.3376 - accuracy: 0.8625\n",
      "Epoch 33/100\n",
      "250/250 [==============================] - 0s 706us/step - loss: 0.3374 - accuracy: 0.8620\n",
      "Epoch 34/100\n",
      "250/250 [==============================] - 0s 709us/step - loss: 0.3367 - accuracy: 0.8644\n",
      "Epoch 35/100\n",
      "250/250 [==============================] - 0s 705us/step - loss: 0.3368 - accuracy: 0.8619\n",
      "Epoch 36/100\n",
      "250/250 [==============================] - 0s 702us/step - loss: 0.3365 - accuracy: 0.8631\n",
      "Epoch 37/100\n",
      "250/250 [==============================] - 0s 705us/step - loss: 0.3362 - accuracy: 0.8621\n",
      "Epoch 38/100\n",
      "250/250 [==============================] - 0s 704us/step - loss: 0.3361 - accuracy: 0.8639\n",
      "Epoch 39/100\n",
      "250/250 [==============================] - 0s 691us/step - loss: 0.3358 - accuracy: 0.8625\n",
      "Epoch 40/100\n",
      "250/250 [==============================] - 0s 717us/step - loss: 0.3361 - accuracy: 0.8643\n",
      "Epoch 41/100\n",
      "250/250 [==============================] - 0s 706us/step - loss: 0.3357 - accuracy: 0.8624\n",
      "Epoch 42/100\n",
      "250/250 [==============================] - 0s 717us/step - loss: 0.3354 - accuracy: 0.8625\n",
      "Epoch 43/100\n",
      "250/250 [==============================] - 0s 706us/step - loss: 0.3353 - accuracy: 0.8634\n",
      "Epoch 44/100\n",
      "250/250 [==============================] - 0s 683us/step - loss: 0.3347 - accuracy: 0.8636\n",
      "Epoch 45/100\n",
      "250/250 [==============================] - 0s 740us/step - loss: 0.3353 - accuracy: 0.8635\n",
      "Epoch 46/100\n",
      "250/250 [==============================] - 0s 707us/step - loss: 0.3350 - accuracy: 0.8619\n",
      "Epoch 47/100\n",
      "250/250 [==============================] - 0s 706us/step - loss: 0.3346 - accuracy: 0.8635\n",
      "Epoch 48/100\n",
      "250/250 [==============================] - 0s 757us/step - loss: 0.3347 - accuracy: 0.8639\n",
      "Epoch 49/100\n",
      "250/250 [==============================] - 0s 702us/step - loss: 0.3346 - accuracy: 0.8611\n",
      "Epoch 50/100\n",
      "250/250 [==============================] - 0s 705us/step - loss: 0.3345 - accuracy: 0.8624\n",
      "Epoch 51/100\n",
      "250/250 [==============================] - 0s 674us/step - loss: 0.3343 - accuracy: 0.8635\n",
      "Epoch 52/100\n",
      "250/250 [==============================] - 0s 638us/step - loss: 0.3344 - accuracy: 0.8629\n",
      "Epoch 53/100\n",
      "250/250 [==============================] - 0s 703us/step - loss: 0.3345 - accuracy: 0.8625\n",
      "Epoch 54/100\n",
      "250/250 [==============================] - 0s 730us/step - loss: 0.3335 - accuracy: 0.8624\n",
      "Epoch 55/100\n",
      "250/250 [==============================] - 0s 756us/step - loss: 0.3345 - accuracy: 0.8631\n",
      "Epoch 56/100\n",
      "250/250 [==============================] - 0s 683us/step - loss: 0.3340 - accuracy: 0.8619\n",
      "Epoch 57/100\n",
      "250/250 [==============================] - 0s 777us/step - loss: 0.3337 - accuracy: 0.8612\n",
      "Epoch 58/100\n",
      "250/250 [==============================] - 0s 703us/step - loss: 0.3341 - accuracy: 0.8620\n",
      "Epoch 59/100\n",
      "250/250 [==============================] - 0s 680us/step - loss: 0.3332 - accuracy: 0.8625\n",
      "Epoch 60/100\n",
      "250/250 [==============================] - 0s 733us/step - loss: 0.3338 - accuracy: 0.8641\n",
      "Epoch 61/100\n",
      "250/250 [==============================] - 0s 712us/step - loss: 0.3336 - accuracy: 0.8621\n",
      "Epoch 62/100\n",
      "250/250 [==============================] - 0s 725us/step - loss: 0.3335 - accuracy: 0.8626\n",
      "Epoch 63/100\n",
      "250/250 [==============================] - 0s 709us/step - loss: 0.3337 - accuracy: 0.8627\n",
      "Epoch 64/100\n",
      "250/250 [==============================] - 0s 712us/step - loss: 0.3334 - accuracy: 0.8625\n",
      "Epoch 65/100\n",
      "250/250 [==============================] - 0s 695us/step - loss: 0.3335 - accuracy: 0.8614\n",
      "Epoch 66/100\n",
      "250/250 [==============================] - 0s 721us/step - loss: 0.3329 - accuracy: 0.8610\n",
      "Epoch 67/100\n",
      "250/250 [==============================] - 0s 696us/step - loss: 0.3330 - accuracy: 0.8621\n",
      "Epoch 68/100\n",
      "250/250 [==============================] - 0s 681us/step - loss: 0.3330 - accuracy: 0.8645\n",
      "Epoch 69/100\n",
      "250/250 [==============================] - 0s 688us/step - loss: 0.3332 - accuracy: 0.8627\n",
      "Epoch 70/100\n",
      "250/250 [==============================] - 0s 720us/step - loss: 0.3331 - accuracy: 0.8635\n",
      "Epoch 71/100\n",
      "250/250 [==============================] - 0s 763us/step - loss: 0.3330 - accuracy: 0.8640\n",
      "Epoch 72/100\n",
      "250/250 [==============================] - 0s 777us/step - loss: 0.3328 - accuracy: 0.8637\n",
      "Epoch 73/100\n",
      "250/250 [==============================] - 0s 781us/step - loss: 0.3328 - accuracy: 0.8636\n",
      "Epoch 74/100\n",
      "250/250 [==============================] - 0s 725us/step - loss: 0.3330 - accuracy: 0.8626\n",
      "Epoch 75/100\n",
      "250/250 [==============================] - 0s 688us/step - loss: 0.3323 - accuracy: 0.8624\n",
      "Epoch 76/100\n",
      "250/250 [==============================] - 0s 786us/step - loss: 0.3328 - accuracy: 0.8618\n",
      "Epoch 77/100\n",
      "250/250 [==============================] - 0s 754us/step - loss: 0.3324 - accuracy: 0.8636\n",
      "Epoch 78/100\n",
      "250/250 [==============================] - 0s 688us/step - loss: 0.3325 - accuracy: 0.8627\n",
      "Epoch 79/100\n",
      "250/250 [==============================] - 0s 799us/step - loss: 0.3322 - accuracy: 0.8639\n",
      "Epoch 80/100\n",
      "250/250 [==============================] - 0s 728us/step - loss: 0.3320 - accuracy: 0.8622\n",
      "Epoch 81/100\n",
      "250/250 [==============================] - 0s 657us/step - loss: 0.3328 - accuracy: 0.8615\n",
      "Epoch 82/100\n",
      "250/250 [==============================] - 0s 679us/step - loss: 0.3322 - accuracy: 0.8622\n",
      "Epoch 83/100\n",
      "250/250 [==============================] - 0s 706us/step - loss: 0.3322 - accuracy: 0.8635\n",
      "Epoch 84/100\n",
      "250/250 [==============================] - 0s 669us/step - loss: 0.3325 - accuracy: 0.8635\n",
      "Epoch 85/100\n",
      "250/250 [==============================] - 0s 707us/step - loss: 0.3320 - accuracy: 0.8615\n",
      "Epoch 86/100\n",
      "250/250 [==============================] - 0s 821us/step - loss: 0.3322 - accuracy: 0.8621\n",
      "Epoch 87/100\n",
      "250/250 [==============================] - 0s 767us/step - loss: 0.3318 - accuracy: 0.8621\n",
      "Epoch 88/100\n",
      "250/250 [==============================] - 0s 751us/step - loss: 0.3319 - accuracy: 0.8622\n",
      "Epoch 89/100\n",
      "250/250 [==============================] - 0s 682us/step - loss: 0.3319 - accuracy: 0.8621\n",
      "Epoch 90/100\n",
      "250/250 [==============================] - 0s 680us/step - loss: 0.3320 - accuracy: 0.8609\n",
      "Epoch 91/100\n",
      "250/250 [==============================] - 0s 733us/step - loss: 0.3318 - accuracy: 0.8625\n",
      "Epoch 92/100\n",
      "250/250 [==============================] - 0s 673us/step - loss: 0.3318 - accuracy: 0.8641\n",
      "Epoch 93/100\n",
      "250/250 [==============================] - 0s 684us/step - loss: 0.3316 - accuracy: 0.8614\n",
      "Epoch 94/100\n",
      "250/250 [==============================] - 0s 681us/step - loss: 0.3322 - accuracy: 0.8614\n",
      "Epoch 95/100\n",
      "250/250 [==============================] - 0s 767us/step - loss: 0.3317 - accuracy: 0.8635\n",
      "Epoch 96/100\n",
      "250/250 [==============================] - 0s 721us/step - loss: 0.3322 - accuracy: 0.8616\n",
      "Epoch 97/100\n",
      "250/250 [==============================] - 0s 710us/step - loss: 0.3318 - accuracy: 0.8631\n",
      "Epoch 98/100\n",
      "250/250 [==============================] - 0s 692us/step - loss: 0.3323 - accuracy: 0.8605\n",
      "Epoch 99/100\n",
      "250/250 [==============================] - 0s 678us/step - loss: 0.3315 - accuracy: 0.8629\n",
      "Epoch 100/100\n",
      "250/250 [==============================] - 0s 691us/step - loss: 0.3312 - accuracy: 0.8629\n"
     ]
    },
    {
     "data": {
      "text/plain": "<keras.callbacks.History at 0x7fa94bf59390>"
     },
     "execution_count": 18,
     "metadata": {},
     "output_type": "execute_result"
    }
   ],
   "source": [
    "# Training the ANN on training set\n",
    "ann.fit(X_train, y_train, batch_size = 32, epochs = 100)"
   ],
   "metadata": {
    "collapsed": false,
    "ExecuteTime": {
     "start_time": "2023-04-21T14:40:56.329932Z",
     "end_time": "2023-04-21T14:41:15.149624Z"
    }
   }
  },
  {
   "cell_type": "code",
   "execution_count": 19,
   "outputs": [
    {
     "name": "stderr",
     "output_type": "stream",
     "text": [
      "2023-04-21 14:41:15.129149: I tensorflow/compiler/xla/stream_executor/cuda/cuda_gpu_executor.cc:996] successful NUMA node read from SysFS had negative value (-1), but there must be at least one NUMA node, so returning NUMA node zero. See more at https://github.com/torvalds/linux/blob/v6.0/Documentation/ABI/testing/sysfs-bus-pci#L344-L355\n"
     ]
    },
    {
     "data": {
      "text/plain": "''"
     },
     "execution_count": 19,
     "metadata": {},
     "output_type": "execute_result"
    },
    {
     "name": "stderr",
     "output_type": "stream",
     "text": [
      "2023-04-21 14:41:15.129298: W tensorflow/core/common_runtime/gpu/gpu_device.cc:1956] Cannot dlopen some GPU libraries. Please make sure the missing libraries mentioned above are installed properly if you would like to use GPU. Follow the guide at https://www.tensorflow.org/install/gpu for how to download and setup the required libraries for your platform.\n",
      "Skipping registering GPU devices...\n"
     ]
    }
   ],
   "source": [
    "tf.test.gpu_device_name()"
   ],
   "metadata": {
    "collapsed": false,
    "ExecuteTime": {
     "start_time": "2023-04-21T14:41:15.193055Z",
     "end_time": "2023-04-21T14:41:15.211080Z"
    }
   }
  },
  {
   "cell_type": "markdown",
   "source": [
    "### Making Predictions with ANN Model"
   ],
   "metadata": {
    "collapsed": false
   }
  },
  {
   "cell_type": "markdown",
   "source": [],
   "metadata": {
    "collapsed": false
   }
  },
  {
   "cell_type": "markdown",
   "source": [
    "**Single Prediction Example**\n",
    "\n",
    "Use our ANN model to predict if the customer with the following informations will leave the bank:\n",
    "\n",
    "Geography: France\n",
    "\n",
    "Credit Score: 600\n",
    "\n",
    "Gender: Male\n",
    "\n",
    "Age: 40 years old\n",
    "\n",
    "Tenure: 3 years\n",
    "\n",
    "Balance: \\$ 60000\n",
    "\n",
    "Number of Products: 2\n",
    "\n",
    "Does this customer have a credit card ? Yes\n",
    "\n",
    "Is this customer an Active Member: Yes\n",
    "\n",
    "Estimated Salary: \\$ 50000\n",
    "\n",
    "So, should we say goodbye to that customer ?"
   ],
   "metadata": {
    "collapsed": false
   }
  },
  {
   "cell_type": "code",
   "execution_count": 21,
   "outputs": [
    {
     "name": "stdout",
     "output_type": "stream",
     "text": [
      "1/1 [==============================] - 0s 67ms/step\n",
      "[[False]]\n"
     ]
    }
   ],
   "source": [
    "print(ann.predict(sc.transform([[1, 0, 0, 600, 1, 40, 3, 60000, 2, 1, 1, 50000]])) > 0.5)"
   ],
   "metadata": {
    "collapsed": false,
    "ExecuteTime": {
     "start_time": "2023-04-21T15:55:26.798193Z",
     "end_time": "2023-04-21T15:55:26.895306Z"
    }
   }
  },
  {
   "cell_type": "markdown",
   "source": [
    "Therefore, our ANN model predicts that this customer stays in the bank!\n",
    "\n",
    "**Important note 1:** Notice that the values of the features were all input in a double pair of square brackets. That's because the \"predict\" method always expects a 2D array as the format of its inputs. And putting our values into a double pair of square brackets makes the input exactly a 2D array.\n",
    "\n",
    "**Important note 2:** Notice also that the \"France\" country was not input as a string in the last column but as \"1, 0, 0\" in the first three columns. That's because of course the predict method expects the one-hot-encoded values of the state, and as we see in the first row of the matrix of features X, \"France\" was encoded as \"1, 0, 0\". And be careful to include these values in the first three columns, because the dummy variables are always created in the first columns."
   ],
   "metadata": {
    "collapsed": false
   }
  },
  {
   "cell_type": "code",
   "execution_count": 24,
   "outputs": [
    {
     "name": "stdout",
     "output_type": "stream",
     "text": [
      "63/63 [==============================] - 0s 545us/step\n"
     ]
    }
   ],
   "source": [
    "# Predicting Test Dataset Results\n",
    "y_pred = ann.predict(X_test)\n",
    "y_pred = (y_pred > 0.5)"
   ],
   "metadata": {
    "collapsed": false,
    "ExecuteTime": {
     "start_time": "2023-04-21T15:58:34.653157Z",
     "end_time": "2023-04-21T15:58:34.747520Z"
    }
   }
  },
  {
   "cell_type": "code",
   "execution_count": 25,
   "outputs": [
    {
     "data": {
      "text/plain": "array([[False],\n       [False],\n       [False],\n       ...,\n       [False],\n       [False],\n       [False]])"
     },
     "execution_count": 25,
     "metadata": {},
     "output_type": "execute_result"
    }
   ],
   "source": [
    "y_pred"
   ],
   "metadata": {
    "collapsed": false,
    "ExecuteTime": {
     "start_time": "2023-04-21T15:58:37.398766Z",
     "end_time": "2023-04-21T15:58:37.401427Z"
    }
   }
  },
  {
   "cell_type": "code",
   "execution_count": 27,
   "outputs": [
    {
     "name": "stdout",
     "output_type": "stream",
     "text": [
      "[[1532   63]\n",
      " [ 206  199]]\n",
      "Model Accuracy Score: 0.8655\n"
     ]
    }
   ],
   "source": [
    "# Confusion Matrix for Model Evaluation\n",
    "from sklearn.metrics import confusion_matrix, accuracy_score\n",
    "\n",
    "cm = confusion_matrix(y_test, y_pred)\n",
    "print(cm)\n",
    "print(f\"Model Accuracy Score: {accuracy_score(y_test, y_pred)}\")"
   ],
   "metadata": {
    "collapsed": false,
    "ExecuteTime": {
     "start_time": "2023-04-21T16:00:08.637969Z",
     "end_time": "2023-04-21T16:00:08.683296Z"
    }
   }
  }
 ],
 "metadata": {
  "kernelspec": {
   "display_name": "Python 3",
   "language": "python",
   "name": "python3"
  },
  "language_info": {
   "codemirror_mode": {
    "name": "ipython",
    "version": 2
   },
   "file_extension": ".py",
   "mimetype": "text/x-python",
   "name": "python",
   "nbconvert_exporter": "python",
   "pygments_lexer": "ipython2",
   "version": "2.7.6"
  }
 },
 "nbformat": 4,
 "nbformat_minor": 0
}
